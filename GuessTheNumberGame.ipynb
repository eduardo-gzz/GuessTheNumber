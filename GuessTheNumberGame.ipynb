{
 "cells": [
  {
   "cell_type": "code",
   "execution_count": 2,
   "metadata": {
    "collapsed": false
   },
   "outputs": [
    {
     "name": "stdout",
     "output_type": "stream",
     "text": [
      "How many times would you like to play? \n",
      "10\n",
      "Select a number from 1 to 25\n",
      "10\n",
      "You guessed lower\n",
      "Select a number from 1 to 25\n",
      "20\n",
      "You guess higher\n",
      "Select a number from 1 to 25\n",
      "15\n",
      "You guess higher\n",
      "Select a number from 1 to 25\n",
      "12\n",
      "You win!, it took you 4 times\n",
      "You reached the end, the lucky number was 12\n"
     ]
    }
   ],
   "source": [
    "import random\n",
    "print('How many times would you like to play? ')\n",
    "amount=input()\n",
    "step=1\n",
    "luckynumber=random.randrange(1,26)\n",
    "while step <=int(amount):\n",
    "    print('Select a number from 1 to 25')\n",
    "    number=int(input())\n",
    "    if number == luckynumber:\n",
    "        print('You win!, it took you %i times' % step)\n",
    "        break\n",
    "    elif number < luckynumber:\n",
    "        print('You guessed lower')\n",
    "    elif number > luckynumber:\n",
    "        print('You guess higher')\n",
    "    else:\n",
    "        pass\n",
    "    step+=1\n",
    "print('You reached the end, the lucky number was %i' % luckynumber)"
   ]
  }
 ],
 "metadata": {
  "kernelspec": {
   "display_name": "Python 3",
   "language": "python",
   "name": "python3"
  },
  "language_info": {
   "codemirror_mode": {
    "name": "ipython",
    "version": 3
   },
   "file_extension": ".py",
   "mimetype": "text/x-python",
   "name": "python",
   "nbconvert_exporter": "python",
   "pygments_lexer": "ipython3",
   "version": "3.7.0"
  }
 },
 "nbformat": 4,
 "nbformat_minor": 2
}
